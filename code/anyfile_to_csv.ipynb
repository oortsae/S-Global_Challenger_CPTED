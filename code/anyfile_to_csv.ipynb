{
 "cells": [
  {
   "cell_type": "code",
   "execution_count": null,
   "metadata": {},
   "outputs": [],
   "source": []
  },
  {
   "cell_type": "code",
   "execution_count": null,
   "metadata": {},
   "outputs": [],
   "source": [
    "%pip install numpy\n",
    "%pip install pandas\n",
    "%pip install matplot"
   ]
  },
  {
   "cell_type": "code",
   "execution_count": null,
   "metadata": {},
   "outputs": [],
   "source": [
    "import numpy as np\n",
    "import pandas as pd\n",
    "import re\n"
   ]
  },
  {
   "cell_type": "code",
   "execution_count": null,
   "metadata": {},
   "outputs": [],
   "source": [
    "\n",
    "import re\n",
    "import os \n",
    "import sys\n",
    "\n",
    "file_path = sys.argv[1]\n",
    "\n",
    "path = \"./data/\" + file_path\n",
    "file_list = os.listdir(path)\n",
    "file_convert_to_csv = {}\n",
    "for i in file_list:\n",
    "    if('.xls' == re.findall('\\.[a-zA-Z]', i) or '.xlsx' == re.findall('\\.[a-zA-Z]', i)): #excel 파일이 입력 되었을 때\n",
    "        dataframe = pd.read_excel(i)\n",
    "        dataframe.to_csv(i, index=None, header=True)\n",
    "    elif('.pickle'== re.findall('\\.[a-zA-Z]', i)):                                      #pickle 파일이 입력 되었을 때\n",
    "        dataframe = pd.read_pickle(i)\n",
    "        dataframe.to_csv(i, index=None, header=True)\n",
    "\n",
    "\n"
   ]
  },
  {
   "cell_type": "markdown",
   "metadata": {},
   "source": [
    "파일 명을 코드실행시 입력해주면 자동으로 다양한 확장자의 파일을 csv로 변경해준다."
   ]
  }
 ],
 "metadata": {
  "kernelspec": {
   "display_name": "Python 3.9.6 64-bit",
   "language": "python",
   "name": "python3"
  },
  "language_info": {
   "name": "python",
   "version": "3.9.6"
  },
  "orig_nbformat": 4,
  "vscode": {
   "interpreter": {
    "hash": "31f2aee4e71d21fbe5cf8b01ff0e069b9275f58929596ceb00d14d90e3e16cd6"
   }
  }
 },
 "nbformat": 4,
 "nbformat_minor": 2
}
